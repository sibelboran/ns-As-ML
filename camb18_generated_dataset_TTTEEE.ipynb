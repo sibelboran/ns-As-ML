{
 "cells": [
  {
   "cell_type": "markdown",
   "metadata": {},
   "source": [
    "# *** camb15 generated datasets for TT_full, TE_full and EE_full components ***"
   ]
  },
  {
   "cell_type": "code",
   "execution_count": null,
   "metadata": {},
   "outputs": [],
   "source": [
    "## install\n",
    "#!pip install camb"
   ]
  },
  {
   "cell_type": "markdown",
   "metadata": {},
   "source": [
    "# import libraries"
   ]
  },
  {
   "cell_type": "code",
   "execution_count": null,
   "metadata": {},
   "outputs": [],
   "source": [
    "## import libraries\n",
    "%matplotlib inline\n",
    "import sys, platform, os\n",
    "from matplotlib import pyplot as plt\n",
    "import numpy as np\n",
    "import pandas as pd\n",
    "\n",
    "sys.path.insert(0,os.path.realpath(os.path.join(os.getcwd(),'..')))\n",
    "import camb\n",
    "from time import time\n",
    "from camb import model, initialpower\n",
    "\n",
    "print('CAMB version: %s '%camb.__version__)\n",
    "print('Using CAMB installed at %s'%(os.path.realpath(os.path.join(os.getcwd(),'..'))))\n",
    "\n",
    "import warnings\n",
    "warnings.filterwarnings(\"ignore\")"
   ]
  },
  {
   "cell_type": "code",
   "execution_count": null,
   "metadata": {},
   "outputs": [],
   "source": [
    "## drive\n",
    "#from google.colab import drive\n",
    "#drive.mount('/content/drive/')"
   ]
  },
  {
   "cell_type": "code",
   "execution_count": null,
   "metadata": {},
   "outputs": [],
   "source": [
    "## get ns and As def.s\n",
    "ns_As   = []\n",
    "mean_ns = 0.96\n",
    "mean_As = 3.09\n",
    "std     = 0.3\n",
    "np.random.seed(189921)\n",
    "\n",
    "while (len(ns_As)<=10000):\n",
    "    ns = np.random.uniform(0.55, 1.37)\n",
    "    As = np.random.uniform(2.68, 3.5)\n",
    "    if ns>0.1 and ns<1.82 and As<5.09 and As>1.09:\n",
    "        ns_As.append([ns,As])\n",
    "\n",
    "ns_As = np.array(ns_As)"
   ]
  },
  {
   "cell_type": "code",
   "execution_count": null,
   "metadata": {},
   "outputs": [],
   "source": [
    "## add parameters from camb with unlensed_scalar\n",
    "ti = time()\n",
    "\n",
    "TT = []\n",
    "EE = []\n",
    "TE = []\n",
    "\n",
    "for i in range(300, len(ns_As)):\n",
    "    pars = camb.CAMBparams()\n",
    "    pars.set_cosmology(H0=0.6732117E+02, ombh2=0.2238280E-01, omch2=0.1201075E+00, mnu=0.06, omk=0, tau=0.5430842E-01);\n",
    "    pars.InitPower.set_params(ns=ns_As[i,0], As=np.exp(ns_As[i,1])*1e-10, r=0);\n",
    "    pars.set_for_lmax(lmax=2508, lens_potential_accuracy=0);\n",
    "    results = camb.get_results(pars);\n",
    "    powers  = results.get_cmb_power_spectra(pars, CMB_unit='muK', \n",
    "                                            lmax=2508, spectra=['unlensed_scalar']);\n",
    "    TT.append(powers['unlensed_scalar'][2:,0])\n",
    "    EE.append(powers['unlensed_scalar'][2:1997,1])\n",
    "    TE.append(powers['unlensed_scalar'][2:1997,3])\n",
    "    if i%100==0: \n",
    "        print(i, 'elapsed time: %.3f h'%((time()-ti)/60/60))"
   ]
  },
  {
   "cell_type": "code",
   "execution_count": null,
   "metadata": {},
   "outputs": [],
   "source": [
    "## get dataset files of ns and As for TT, TE, EE.\n",
    "df_TT = pd.DataFrame()\n",
    "df_TE = pd.DataFrame()\n",
    "df_EE = pd.DataFrame()\n",
    "\n",
    "for df in [df_TT, df_TE, df_EE]:\n",
    "    df['ns'] = ns_As[:,0]\n",
    "    df['As'] = ns_As[:,1]\n",
    "    \n",
    "df_TT = pd.concat((df_TT, pd.DataFrame(TT,columns=list(map(str,range(2,2509))))),axis=1)\n",
    "df_TE = pd.concat((df_TE, pd.DataFrame(TE,columns=list(map(str,range(2,1997))))),axis=1)\n",
    "df_EE = pd.concat((df_EE, pd.DataFrame(EE,columns=list(map(str,range(2,1997))))),axis=1)\n",
    "\n",
    "df_TT.to_csv('TT_full.csv', index=False)\n",
    "df_TE.to_csv('TE_full.csv', index=False)\n",
    "df_EE.to_csv('EE_full.csv', index=False)"
   ]
  }
 ],
 "metadata": {
  "kernelspec": {
   "display_name": "Python 3",
   "language": "python",
   "name": "python3"
  },
  "language_info": {
   "codemirror_mode": {
    "name": "ipython",
    "version": 3
   },
   "file_extension": ".py",
   "mimetype": "text/x-python",
   "name": "python",
   "nbconvert_exporter": "python",
   "pygments_lexer": "ipython3",
   "version": "3.7.4"
  }
 },
 "nbformat": 4,
 "nbformat_minor": 2
}
