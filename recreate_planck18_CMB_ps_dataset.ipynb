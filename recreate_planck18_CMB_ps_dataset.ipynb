{
 "cells": [
  {
   "cell_type": "markdown",
   "metadata": {},
   "source": [
    "# *** recreate planck18_CMB_ps_dataset ***"
   ]
  },
  {
   "cell_type": "markdown",
   "metadata": {},
   "source": [
    "# import libraries"
   ]
  },
  {
   "cell_type": "code",
   "execution_count": 1,
   "metadata": {},
   "outputs": [],
   "source": [
    "## import libraries\n",
    "import numpy as np\n",
    "import pandas as pd\n",
    "import matplotlib.pyplot as plt\n",
    "\n",
    "import warnings\n",
    "warnings.filterwarnings(\"ignore\")"
   ]
  },
  {
   "cell_type": "code",
   "execution_count": null,
   "metadata": {},
   "outputs": [],
   "source": [
    "## drive\n",
    "#from google.colab import drive\n",
    "#drive.mount('/content/drive/')"
   ]
  },
  {
   "cell_type": "markdown",
   "metadata": {},
   "source": [
    "# directory & paths for dataset files"
   ]
  },
  {
   "cell_type": "code",
   "execution_count": 2,
   "metadata": {},
   "outputs": [],
   "source": [
    "## directory\n",
    "directory = 'planck18_CMB_ps_dataset/'"
   ]
  },
  {
   "cell_type": "code",
   "execution_count": 3,
   "metadata": {},
   "outputs": [],
   "source": [
    "## obs-full-unbinned dataset from planck18\n",
    "TT_f_fname  = 'COM_PowerSpect_CMB-TT-full_R3.01.txt'\n",
    "TT_f        = pd.read_fwf(directory + TT_f_fname).drop('#', axis=1)\n",
    "TT_fl  = TT_f.iloc[:28]\n",
    "TT_fh  = TT_f.iloc[28:]\n",
    "\n",
    "TE_f_fname  = 'COM_PowerSpect_CMB-TE-full_R3.01.txt'\n",
    "TE_f        = pd.read_fwf(directory + TE_f_fname).drop('#', axis=1)\n",
    "TE_fl  = TE_f.iloc[:28]\n",
    "TE_fh  = TE_f.iloc[28:]\n",
    "\n",
    "EE_f_fname  = 'COM_PowerSpect_CMB-EE-full_R3.01.txt'\n",
    "EE_f        = pd.read_fwf(directory + EE_f_fname).drop('#', axis=1)\n",
    "EE_fl  = EE_f.iloc[:28]\n",
    "EE_fh  = EE_f.iloc[28:]"
   ]
  },
  {
   "cell_type": "code",
   "execution_count": 4,
   "metadata": {},
   "outputs": [],
   "source": [
    "TT_f.to_csv(directory  + 'TT_full.csv',  index=False)\n",
    "TT_fl.to_csv(directory + 'TT_flow.csv',  index=False)\n",
    "TT_fh.to_csv(directory + 'TT_fhigh.csv', index=False)\n",
    "\n",
    "TE_f.to_csv(directory  + 'TE_full.csv',  index=False)\n",
    "TE_fl.to_csv(directory + 'TE_flow.csv',  index=False)\n",
    "TE_fh.to_csv(directory + 'TE_fhigh.csv', index=False)\n",
    "\n",
    "EE_f.to_csv(directory  + 'EE_full.csv',  index=False)\n",
    "EE_fl.to_csv(directory + 'EE_flow.csv',  index=False)\n",
    "EE_fh.to_csv(directory + 'EE_fhigh.csv', index=False)"
   ]
  },
  {
   "cell_type": "code",
   "execution_count": 5,
   "metadata": {},
   "outputs": [],
   "source": [
    "## obs-binned data set from planck18\n",
    "TT_bh_fname = 'COM_PowerSpect_CMB-TT-binned_R3.01.txt'\n",
    "TT_bh       = pd.read_fwf(directory + TT_bh_fname).drop('#', axis=1)\n",
    "\n",
    "TE_bh_fname = 'COM_PowerSpect_CMB-TE-binned_R3.02.txt'\n",
    "TE_bh       = pd.read_fwf(directory + TE_bh_fname).drop('#', axis=1)\n",
    "\n",
    "EE_bh_fname = 'COM_PowerSpect_CMB-EE-binned_R3.02.txt'\n",
    "EE_bh       = pd.read_fwf(directory + EE_bh_fname).drop('#', axis=1)"
   ]
  },
  {
   "cell_type": "code",
   "execution_count": 6,
   "metadata": {},
   "outputs": [],
   "source": [
    "TT_bh.to_csv(directory + 'TT_bestfithigh_binned.csv',  index=False)\n",
    "TE_bh.to_csv(directory + 'TE_bestfithigh_binned.csv',  index=False)\n",
    "EE_bh.to_csv(directory + 'EE_bestfithigh_binned.csv',  index=False)"
   ]
  },
  {
   "cell_type": "markdown",
   "metadata": {},
   "source": [
    "# create the binned_high dataset"
   ]
  },
  {
   "cell_type": "code",
   "execution_count": 7,
   "metadata": {},
   "outputs": [],
   "source": [
    "## get the binned and weighted dataset \n",
    "## for full-unbinned and theory-unbinned datasets\n",
    "def binned(array, deltal, weights=1):\n",
    "    binned_array = []\n",
    "    n_bin        = int(len(array)/deltal) + 1  \n",
    "    for i in range(n_bin):\n",
    "        binn     = array[deltal*i:deltal*(i+1)]\n",
    "        average  = np.average(binn)\n",
    "        binned_array.append(average)\n",
    "    return binned_array\n",
    "\n",
    "def binnedw(array, error, deltal):\n",
    "    binned_array = []\n",
    "    n_bin        = int(len(array)/deltal) + 1\n",
    "    weights      = []\n",
    "    for i in range(n_bin):\n",
    "        binn         = array[deltal*i:deltal*(i+1)]\n",
    "        binn_error   = error[deltal*i:deltal*(i+1)]\n",
    "        binn_weights = 1/binn_error**2\n",
    "        average      = np.average(binn, weights=binn_weights)\n",
    "        binned_array.append(average)\n",
    "    return binned_array"
   ]
  },
  {
   "cell_type": "code",
   "execution_count": 8,
   "metadata": {},
   "outputs": [],
   "source": [
    "deltal = 30"
   ]
  },
  {
   "cell_type": "code",
   "execution_count": 9,
   "metadata": {},
   "outputs": [],
   "source": [
    "## get the binned and weighted dataset for full-unbinned high dataset\n",
    "TT_bfh = pd.DataFrame()\n",
    "TT_bfh['l']    = binned(TT_fh['l'], deltal)\n",
    "TT_bfh['Dl']   = binnedw(TT_fh['Dl'], TT_fh['+dDl'], deltal)\n",
    "TT_bfh['-dDl'] = binned(TT_fh['-dDl'], deltal)\n",
    "TT_bfh['+dDl'] = binned(TT_fh['+dDl'], deltal)\n",
    "\n",
    "TE_bfh = pd.DataFrame()\n",
    "TE_bfh['l']    = binned(TE_fh['l'], deltal)\n",
    "TE_bfh['Dl']   = binnedw(TE_fh['Dl'], TE_fh['+dDl'], deltal)\n",
    "TE_bfh['-dDl'] = binned(TE_fh['-dDl'], deltal)\n",
    "TE_bfh['+dDl'] = binned(TE_fh['+dDl'], deltal)\n",
    "\n",
    "EE_bfh = pd.DataFrame()\n",
    "EE_bfh['l']    = binned(EE_fh['l'], deltal)\n",
    "EE_bfh['Dl']   = binnedw(EE_fh['Dl'], EE_fh['+dDl'], deltal)\n",
    "EE_bfh['-dDl'] = binned(EE_fh['-dDl'], deltal)\n",
    "EE_bfh['+dDl'] = binned(EE_fh['+dDl'], deltal)"
   ]
  },
  {
   "cell_type": "code",
   "execution_count": 10,
   "metadata": {},
   "outputs": [],
   "source": [
    "TT_bfh.to_csv(directory + 'TT_fhigh_binned.csv', index=False)\n",
    "TE_bfh.to_csv(directory + 'TE_fhigh_binned.csv', index=False)\n",
    "EE_bfh.to_csv(directory + 'EE_fhigh_binned.csv', index=False)"
   ]
  },
  {
   "cell_type": "markdown",
   "metadata": {},
   "source": [
    "# create the binned_full dataset"
   ]
  },
  {
   "cell_type": "code",
   "execution_count": 11,
   "metadata": {},
   "outputs": [],
   "source": [
    "TT_ffull = pd.concat([TT_fl, TT_bfh], axis=0)\n",
    "TE_ffull = pd.concat([TE_fl, TE_bfh], axis=0)\n",
    "EE_ffull = pd.concat([EE_fl, EE_bfh], axis=0)"
   ]
  },
  {
   "cell_type": "code",
   "execution_count": 12,
   "metadata": {},
   "outputs": [],
   "source": [
    "TT_ffull.to_csv(directory + 'TT_full_binned.csv', index=False)\n",
    "TE_ffull.to_csv(directory + 'TE_full_binned.csv', index=False)\n",
    "EE_ffull.to_csv(directory + 'EE_full_binned.csv', index=False)"
   ]
  },
  {
   "cell_type": "markdown",
   "metadata": {},
   "source": [
    "# create the dataset combinations"
   ]
  },
  {
   "cell_type": "code",
   "execution_count": 13,
   "metadata": {},
   "outputs": [],
   "source": [
    "TTTEEE_bfh   = pd.concat([TT_bfh, TE_bfh, EE_bfh],     axis=0)\n",
    "TTTEEE_bfhf  = pd.concat([TT_bfh, TE_ffull, EE_ffull], axis=0)\n",
    "TTTEEE_bfhfl = pd.concat([TT_bfh, TE_fl, EE_fl],       axis=0)\n",
    "\n",
    "TTTEEE_ffull  = pd.concat([TT_ffull, TE_ffull, EE_ffull], axis=0)\n",
    "TTTEEE_ffullh = pd.concat([TT_ffull, TE_bfh, EE_bfh],     axis=0)\n",
    "TTTEEE_ffulll = pd.concat([TT_ffull, TE_fl, EE_fl],       axis=0)"
   ]
  },
  {
   "cell_type": "code",
   "execution_count": 14,
   "metadata": {},
   "outputs": [],
   "source": [
    "TTTEEE_bfh.to_csv(directory   + 'TT_fhigh_binned+TE_fhigh_binned+EE_fhigh_binned.csv', index=False)\n",
    "TTTEEE_bfhf.to_csv(directory  + 'TT_fhigh_binned+TE_full_binned+EE_full_binned.csv',   index=False)\n",
    "TTTEEE_bfhfl.to_csv(directory + 'TT_fhigh_binned+TE_flow+EE_flow.csv',                 index=False)\n",
    "\n",
    "TTTEEE_ffull.to_csv(directory  + 'TT_full_binned+TE_full_binned+EE_full_binned.csv',   index=False)\n",
    "TTTEEE_ffullh.to_csv(directory + 'TT_full_binned+TE_fhigh_binned+EE_fhigh_binned.csv', index=False)\n",
    "TTTEEE_ffulll.to_csv(directory + 'TT_full_binned+TE_flow+EE_flow.csv',                 index=False)"
   ]
  }
 ],
 "metadata": {
  "kernelspec": {
   "display_name": "Python 3",
   "language": "python",
   "name": "python3"
  },
  "language_info": {
   "codemirror_mode": {
    "name": "ipython",
    "version": 3
   },
   "file_extension": ".py",
   "mimetype": "text/x-python",
   "name": "python",
   "nbconvert_exporter": "python",
   "pygments_lexer": "ipython3",
   "version": "3.7.4"
  }
 },
 "nbformat": 4,
 "nbformat_minor": 2
}
